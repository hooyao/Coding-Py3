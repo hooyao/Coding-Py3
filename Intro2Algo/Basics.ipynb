{
 "cells": [
  {
   "cell_type": "markdown",
   "metadata": {},
   "source": [
    "# Basic"
   ]
  },
  {
   "cell_type": "code",
   "execution_count": 1,
   "metadata": {},
   "outputs": [],
   "source": [
    "%reload_ext blackcellmagic"
   ]
  },
  {
   "cell_type": "markdown",
   "metadata": {},
   "source": [
    "Define a function to generate random list"
   ]
  },
  {
   "cell_type": "code",
   "execution_count": 35,
   "metadata": {},
   "outputs": [],
   "source": [
    "import random\n",
    "\n",
    "\n",
    "def ran_list(length, start=0, end=1000):\n",
    "    random_list = []\n",
    "\n",
    "    for i in range(0, length):\n",
    "        x = random.randint(start, end)\n",
    "        random_list.append(x)\n",
    "\n",
    "    return random_list\n"
   ]
  },
  {
   "cell_type": "markdown",
   "metadata": {},
   "source": [
    "## Insertion sort"
   ]
  },
  {
   "cell_type": "code",
   "execution_count": 32,
   "metadata": {},
   "outputs": [
    {
     "name": "stdout",
     "output_type": "stream",
     "text": [
      "[688, 957, 2, 337, 945, 722, 634, 165, 154, 796]\n"
     ]
    }
   ],
   "source": [
    "unsorted_data = ran_list(length=10)\n",
    "sorted_data=list(sorted(unsorted_data))\n",
    "print(unsorted_data)"
   ]
  },
  {
   "cell_type": "code",
   "execution_count": 33,
   "metadata": {},
   "outputs": [],
   "source": [
    "def insertion_sort_in_place(data):\n",
    "    for idx in range(1, len(data)):\n",
    "        key = data[idx]\n",
    "        i = idx - 1\n",
    "        while i >= 0 and data[i] > key:\n",
    "            data[i + 1] = data[i]\n",
    "            i = i - 1\n",
    "        data[i + 1] = key\n",
    "    return data\n"
   ]
  },
  {
   "cell_type": "code",
   "execution_count": 34,
   "metadata": {},
   "outputs": [
    {
     "name": "stdout",
     "output_type": "stream",
     "text": [
      "[2, 154, 165, 337, 634, 688, 722, 796, 945, 957]\n",
      "True\n"
     ]
    }
   ],
   "source": [
    "from operator import eq\n",
    "insertion_sort_in_place(unsorted_data)\n",
    "print(unsorted_data)\n",
    "print(eq(sorted_data,unsorted_data))"
   ]
  }
 ],
 "metadata": {
  "kernelspec": {
   "display_name": "Python 3",
   "language": "python",
   "name": "python3"
  },
  "language_info": {
   "codemirror_mode": {
    "name": "ipython",
    "version": 3
   },
   "file_extension": ".py",
   "mimetype": "text/x-python",
   "name": "python",
   "nbconvert_exporter": "python",
   "pygments_lexer": "ipython3",
   "version": "3.7.2"
  }
 },
 "nbformat": 4,
 "nbformat_minor": 2
}
