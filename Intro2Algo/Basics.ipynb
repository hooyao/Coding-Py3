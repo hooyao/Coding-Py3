{
 "cells": [
  {
   "cell_type": "markdown",
   "metadata": {},
   "source": [
    "# Basic"
   ]
  },
  {
   "cell_type": "code",
   "execution_count": 2,
   "metadata": {},
   "outputs": [],
   "source": [
    "%reload_ext blackcellmagic"
   ]
  },
  {
   "cell_type": "markdown",
   "metadata": {},
   "source": [
    "Define a function to generate random list"
   ]
  },
  {
   "cell_type": "code",
   "execution_count": 3,
   "metadata": {},
   "outputs": [],
   "source": [
    "import random\n",
    "\n",
    "\n",
    "def ran_list(length, start=0, end=1000):\n",
    "    random_list = []\n",
    "\n",
    "    for i in range(0, length):\n",
    "        x = random.randint(start, end)\n",
    "        random_list.append(x)\n",
    "\n",
    "    return random_list\n"
   ]
  },
  {
   "cell_type": "markdown",
   "metadata": {},
   "source": [
    "## Insertion sort"
   ]
  },
  {
   "cell_type": "code",
   "execution_count": 4,
   "metadata": {},
   "outputs": [
    {
     "name": "stdout",
     "output_type": "stream",
     "text": [
      "[77, 132, 224, 600, 993, 797, 482, 746, 677, 474]\n"
     ]
    }
   ],
   "source": [
    "unsorted_data = ran_list(length=10)\n",
    "sorted_data=list(sorted(unsorted_data))\n",
    "print(unsorted_data)"
   ]
  },
  {
   "cell_type": "code",
   "execution_count": 5,
   "metadata": {},
   "outputs": [],
   "source": [
    "def insertion_sort_in_place(data):\n",
    "    for idx in range(1, len(data)):\n",
    "        key = data[idx]\n",
    "        i = idx - 1\n",
    "        while i >= 0 and data[i] > key:\n",
    "            data[i + 1] = data[i]\n",
    "            i = i - 1\n",
    "        data[i + 1] = key\n",
    "    return data\n"
   ]
  },
  {
   "cell_type": "code",
   "execution_count": 6,
   "metadata": {},
   "outputs": [
    {
     "name": "stdout",
     "output_type": "stream",
     "text": [
      "[77, 132, 224, 474, 482, 600, 677, 746, 797, 993]\n",
      "True\n"
     ]
    }
   ],
   "source": [
    "from operator import eq\n",
    "insertion_sort_in_place(unsorted_data)\n",
    "print(unsorted_data)\n",
    "print(eq(sorted_data,unsorted_data))"
   ]
  },
  {
   "cell_type": "code",
   "execution_count": null,
   "metadata": {},
   "outputs": [],
   "source": []
  }
 ],
 "metadata": {
  "kernelspec": {
   "display_name": "Python 3",
   "language": "python",
   "name": "python3"
  },
  "language_info": {
   "codemirror_mode": {
    "name": "ipython",
    "version": 3
   },
   "file_extension": ".py",
   "mimetype": "text/x-python",
   "name": "python",
   "nbconvert_exporter": "python",
   "pygments_lexer": "ipython3",
   "version": "3.7.2"
  }
 },
 "nbformat": 4,
 "nbformat_minor": 2
}
